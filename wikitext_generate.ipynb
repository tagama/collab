{
  "nbformat": 4,
  "nbformat_minor": 0,
  "metadata": {
    "colab": {
      "name": "wikitext-generate.ipynb",
      "version": "0.3.2",
      "provenance": [],
      "include_colab_link": true
    },
    "kernelspec": {
      "name": "python3",
      "display_name": "Python 3"
    }
  },
  "cells": [
    {
      "cell_type": "markdown",
      "metadata": {
        "id": "view-in-github",
        "colab_type": "text"
      },
      "source": [
        "<a href=\"https://colab.research.google.com/github/tagama/collab/blob/master/wikitext_generate.ipynb\" target=\"_parent\"><img src=\"https://colab.research.google.com/assets/colab-badge.svg\" alt=\"Open In Colab\"/></a>"
      ]
    },
    {
      "metadata": {
        "id": "xTQwkzLjzr2E",
        "colab_type": "code",
        "colab": {
          "base_uri": "https://localhost:8080/",
          "height": 136
        },
        "outputId": "7dfcef93-ac36-4604-b66c-b05bdbece70b"
      },
      "cell_type": "code",
      "source": [
        "!git clone https://github.com/n-waves/ulmfit-multilingual.git"
      ],
      "execution_count": 1,
      "outputs": [
        {
          "output_type": "stream",
          "text": [
            "Cloning into 'ulmfit-multilingual'...\n",
            "remote: Enumerating objects: 213, done.\u001b[K\n",
            "remote: Counting objects: 100% (213/213), done.\u001b[K\n",
            "remote: Compressing objects: 100% (133/133), done.\u001b[K\n",
            "remote: Total 1338 (delta 126), reused 148 (delta 77), pack-reused 1125\u001b[K\n",
            "Receiving objects: 100% (1338/1338), 549.59 KiB | 12.78 MiB/s, done.\n",
            "Resolving deltas: 100% (861/861), done.\n"
          ],
          "name": "stdout"
        }
      ]
    },
    {
      "metadata": {
        "id": "wBiFwVafCqw3",
        "colab_type": "code",
        "colab": {
          "base_uri": "https://localhost:8080/",
          "height": 459
        },
        "outputId": "e561c341-af6d-4c01-8ad7-d4adff6de362"
      },
      "cell_type": "code",
      "source": [
        "!sudo apt-get install tree"
      ],
      "execution_count": 9,
      "outputs": [
        {
          "output_type": "stream",
          "text": [
            "Reading package lists... Done\n",
            "Building dependency tree       \n",
            "Reading state information... Done\n",
            "The following package was automatically installed and is no longer required:\n",
            "  libnvidia-common-410\n",
            "Use 'sudo apt autoremove' to remove it.\n",
            "The following NEW packages will be installed:\n",
            "  tree\n",
            "0 upgraded, 1 newly installed, 0 to remove and 6 not upgraded.\n",
            "Need to get 40.7 kB of archives.\n",
            "After this operation, 105 kB of additional disk space will be used.\n",
            "Get:1 http://archive.ubuntu.com/ubuntu bionic/universe amd64 tree amd64 1.7.0-5 [40.7 kB]\n",
            "Fetched 40.7 kB in 0s (115 kB/s)\n",
            "debconf: unable to initialize frontend: Dialog\n",
            "debconf: (No usable dialog-like program is installed, so the dialog based frontend cannot be used. at /usr/share/perl5/Debconf/FrontEnd/Dialog.pm line 76, <> line 1.)\n",
            "debconf: falling back to frontend: Readline\n",
            "debconf: unable to initialize frontend: Readline\n",
            "debconf: (This frontend requires a controlling tty.)\n",
            "debconf: falling back to frontend: Teletype\n",
            "dpkg-preconfigure: unable to re-open stdin: \n",
            "Selecting previously unselected package tree.\n",
            "(Reading database ... 131304 files and directories currently installed.)\n",
            "Preparing to unpack .../tree_1.7.0-5_amd64.deb ...\n",
            "Unpacking tree (1.7.0-5) ...\n",
            "Setting up tree (1.7.0-5) ...\n",
            "Processing triggers for man-db (2.8.3-2ubuntu0.1) ...\n"
          ],
          "name": "stdout"
        }
      ]
    },
    {
      "metadata": {
        "id": "NT0kmZBTz9nr",
        "colab_type": "code",
        "colab": {
          "base_uri": "https://localhost:8080/",
          "height": 1700
        },
        "outputId": "085d3dab-bd01-4823-932d-7e3db768985c"
      },
      "cell_type": "code",
      "source": [
        "!tree ."
      ],
      "execution_count": 10,
      "outputs": [
        {
          "output_type": "stream",
          "text": [
            ".\n",
            "├── sample_data\n",
            "│   ├── anscombe.json\n",
            "│   ├── california_housing_test.csv\n",
            "│   ├── california_housing_train.csv\n",
            "│   ├── mnist_test.csv\n",
            "│   ├── mnist_train_small.csv\n",
            "│   └── README.md\n",
            "└── ulmfit-multilingual\n",
            "    ├── experiments\n",
            "    │   ├── cls_test_wt103_1_f.ipynb\n",
            "    │   └── cls_test_wt103_1_vf.ipynb\n",
            "    ├── fastai_contrib\n",
            "    │   ├── __init__.py\n",
            "    │   └── utils.py\n",
            "    ├── get_preprocessed_wikis.sh\n",
            "    ├── MLDoc.md\n",
            "    ├── prepare_cls.py\n",
            "    ├── prepare_imdb.sh\n",
            "    ├── prepare_mldoc.py\n",
            "    ├── prepare_poleval.py\n",
            "    ├── prepare_wiki-en.sh\n",
            "    ├── prepare_wiki.sh\n",
            "    ├── prepare_xnli.py\n",
            "    ├── prepare_xnli.sh\n",
            "    ├── README.md\n",
            "    ├── requirements.txt\n",
            "    ├── results\n",
            "    │   ├── CLS.md\n",
            "    │   ├── logs\n",
            "    │   │   ├── 100examples.md\n",
            "    │   │   ├── cls\n",
            "    │   │   │   ├── cls_all.md\n",
            "    │   │   │   ├── ulmfit on cls lstm.md\n",
            "    │   │   │   ├── ulmfit on cls.md\n",
            "    │   │   │   └── zeroshoot.md\n",
            "    │   │   ├── common.md\n",
            "    │   │   ├── de.md\n",
            "    │   │   ├── en.md\n",
            "    │   │   ├── es.md\n",
            "    │   │   ├── fastai.errors.txt\n",
            "    │   │   ├── fr.md\n",
            "    │   │   ├── it.md\n",
            "    │   │   ├── ja.md\n",
            "    │   │   ├── label_smoothing.md\n",
            "    │   │   ├── mldoc\n",
            "    │   │   │   ├── label_smoothing.md\n",
            "    │   │   │   ├── noise\n",
            "    │   │   │   │   ├── de10k-noise.md\n",
            "    │   │   │   │   ├── es10k-noise-lstm.md\n",
            "    │   │   │   │   ├── es10k-noise.md\n",
            "    │   │   │   │   ├── es-random.md\n",
            "    │   │   │   │   └── random.md\n",
            "    │   │   │   └── random-init.md\n",
            "    │   │   ├── pseudo-labeling.md\n",
            "    │   │   ├── qrnn-de.md\n",
            "    │   │   ├── qrnn-en.md\n",
            "    │   │   ├── qrnn-es.md\n",
            "    │   │   ├── qrnn-it.md\n",
            "    │   │   ├── qrnn-ru.md\n",
            "    │   │   ├── qrnn-zh.md\n",
            "    │   │   ├── ru\n",
            "    │   │   │   ├── 5epochs.md\n",
            "    │   │   │   ├── bptt.md\n",
            "    │   │   │   ├── bs_vs_lr.md\n",
            "    │   │   │   ├── lm-opti.md\n",
            "    │   │   │   ├── merity4.md\n",
            "    │   │   │   ├── merity5.md\n",
            "    │   │   │   ├── nl8.md\n",
            "    │   │   │   ├── nowiki-sp16k.md\n",
            "    │   │   │   ├── results.md\n",
            "    │   │   │   ├── sp25.md\n",
            "    │   │   │   └── wide2.md\n",
            "    │   │   ├── ru.md\n",
            "    │   │   ├── Timing.md\n",
            "    │   │   ├── tokenization\n",
            "    │   │   │   ├── average10runs.md\n",
            "    │   │   │   ├── fr.md\n",
            "    │   │   │   └── ru.md\n",
            "    │   │   ├── Training qrnn on ML.txt\n",
            "    │   │   ├── zeroshot.md\n",
            "    │   │   └── zh.md\n",
            "    │   ├── MLDoc.md\n",
            "    │   └── time_benchmark\n",
            "    │       ├── logs.md\n",
            "    │       └── qrnn_benchmark.py\n",
            "    ├── tests\n",
            "    │   ├── __init__.py\n",
            "    │   └── test_end_to_end.py\n",
            "    └── ulmfit\n",
            "        ├── create_wikitext.py\n",
            "        ├── __init__.py\n",
            "        ├── __main__.py\n",
            "        ├── postprocess_wikitext.py\n",
            "        ├── pretrain_lm.py\n",
            "        ├── README.md\n",
            "        └── train_clas.py\n",
            "\n",
            "14 directories, 82 files\n"
          ],
          "name": "stdout"
        }
      ]
    },
    {
      "metadata": {
        "id": "6E_-QLcMCKM8",
        "colab_type": "code",
        "colab": {
          "base_uri": "https://localhost:8080/",
          "height": 420
        },
        "outputId": "5c54376d-e8f5-4d83-fee7-b875629efce8"
      },
      "cell_type": "code",
      "source": [
        "!pip install -r ./ulmfit-multilingual/requirements.txt"
      ],
      "execution_count": 0,
      "outputs": [
        {
          "output_type": "stream",
          "text": [
            "Collecting fire>=0.1.3 (from -r ./ulmfit-multilingual/requirements.txt (line 1))\n",
            "  Downloading https://files.pythonhosted.org/packages/5a/b7/205702f348aab198baecd1d8344a90748cb68f53bdcd1cc30cbc08e47d3e/fire-0.1.3.tar.gz\n",
            "Collecting cupy>=5.0.0 (from -r ./ulmfit-multilingual/requirements.txt (line 2))\n",
            "\u001b[?25l  Downloading https://files.pythonhosted.org/packages/cd/d6/532e5da87f3b513cd0b98bcbf9a58fb6758598039944c42cb93d13b71a5f/cupy-5.4.0.tar.gz (2.5MB)\n",
            "\u001b[K    100% |████████████████████████████████| 2.5MB 11.1MB/s \n",
            "\u001b[?25hRequirement already satisfied: scikit-learn>=0.20 in /usr/local/lib/python3.6/dist-packages (from -r ./ulmfit-multilingual/requirements.txt (line 3)) (0.20.3)\n",
            "Collecting sacremoses>=0.0.5 (from -r ./ulmfit-multilingual/requirements.txt (line 4))\n",
            "\u001b[?25l  Downloading https://files.pythonhosted.org/packages/3c/08/5e38f40491dd6fc40db0faf24de9a96fe213bd5542baafa48ce7fc9b7aa6/sacremoses-0.0.19.tar.gz (113kB)\n",
            "\u001b[K    100% |████████████████████████████████| 122kB 28.2MB/s \n",
            "\u001b[?25hCollecting sentencepiece (from -r ./ulmfit-multilingual/requirements.txt (line 5))\n",
            "\u001b[?25l  Downloading https://files.pythonhosted.org/packages/00/95/7f357995d5eb1131aa2092096dca14a6fc1b1d2860bd99c22a612e1d1019/sentencepiece-0.1.82-cp36-cp36m-manylinux1_x86_64.whl (1.0MB)\n",
            "\u001b[K    100% |████████████████████████████████| 1.0MB 20.8MB/s \n",
            "\u001b[?25hRequirement already satisfied: six in /usr/local/lib/python3.6/dist-packages (from fire>=0.1.3->-r ./ulmfit-multilingual/requirements.txt (line 1)) (1.12.0)\n",
            "Requirement already satisfied: numpy>=1.9.0 in /usr/local/lib/python3.6/dist-packages (from cupy>=5.0.0->-r ./ulmfit-multilingual/requirements.txt (line 2)) (1.16.2)\n",
            "Requirement already satisfied: fastrlock>=0.3 in /usr/local/lib/python3.6/dist-packages (from cupy>=5.0.0->-r ./ulmfit-multilingual/requirements.txt (line 2)) (0.4)\n",
            "Requirement already satisfied: scipy>=0.13.3 in /usr/local/lib/python3.6/dist-packages (from scikit-learn>=0.20->-r ./ulmfit-multilingual/requirements.txt (line 3)) (1.2.1)\n",
            "Requirement already satisfied: click in /usr/local/lib/python3.6/dist-packages (from sacremoses>=0.0.5->-r ./ulmfit-multilingual/requirements.txt (line 4)) (7.0)\n",
            "Requirement already satisfied: joblib in /usr/local/lib/python3.6/dist-packages (from sacremoses>=0.0.5->-r ./ulmfit-multilingual/requirements.txt (line 4)) (0.12.5)\n",
            "Requirement already satisfied: tqdm in /usr/local/lib/python3.6/dist-packages (from sacremoses>=0.0.5->-r ./ulmfit-multilingual/requirements.txt (line 4)) (4.28.1)\n",
            "Building wheels for collected packages: fire, cupy, sacremoses\n",
            "  Building wheel for fire (setup.py) ... \u001b[?25ldone\n",
            "\u001b[?25h  Stored in directory: /root/.cache/pip/wheels/2a/1a/4d/6b30377c3051e76559d1185c1dbbfff15aed31f87acdd14c22\n"
          ],
          "name": "stdout"
        }
      ]
    }
  ]
}